{
 "cells": [
  {
   "cell_type": "markdown",
   "id": "7b4f75d8",
   "metadata": {},
   "source": [
    "# MINI PROJECT"
   ]
  },
  {
   "cell_type": "markdown",
   "id": "f9a4a7e7",
   "metadata": {},
   "source": [
    "### NLP mini project code for sentiment analysis using Python's Natural Language Toolkit (NLTK):"
   ]
  },
  {
   "cell_type": "code",
   "execution_count": 4,
   "id": "217dd33d",
   "metadata": {},
   "outputs": [],
   "source": [
    "#This code uses the SentimentIntensityAnalyzer from the NLTK library to analyze the sentiment of the text entered by the user.\n",
    "#The code first downloads the lexicon required by the SentimentIntensityAnalyzer. \n",
    "#Then, it computes the sentiment score of the text using the polarity_scores function. \n",
    "#The compound score is used to determine whether the text has a positive, negative, or neutral sentiment. \n",
    "#The code then prints the result of the sentiment analysis."
   ]
  },
  {
   "cell_type": "code",
   "execution_count": 2,
   "id": "603c637e",
   "metadata": {},
   "outputs": [
    {
     "name": "stdout",
     "output_type": "stream",
     "text": [
      "Enter some text to analyze: you are a bad boy\n",
      "The text has a negative sentiment.\n"
     ]
    },
    {
     "name": "stderr",
     "output_type": "stream",
     "text": [
      "[nltk_data] Downloading package vader_lexicon to\n",
      "[nltk_data]     C:\\Users\\DEll\\AppData\\Roaming\\nltk_data...\n",
      "[nltk_data]   Package vader_lexicon is already up-to-date!\n"
     ]
    }
   ],
   "source": [
    "import nltk\n",
    "from nltk.sentiment import SentimentIntensityAnalyzer\n",
    "\n",
    "def sentiment_analysis(text):\n",
    "    nltk.download('vader_lexicon') # download the lexicon for SentimentIntensityAnalyzer\n",
    "    sia = SentimentIntensityAnalyzer()\n",
    "    sentiment = sia.polarity_scores(text)\n",
    "    if sentiment['compound'] > 0:\n",
    "        print(\"The text has a positive sentiment.\")\n",
    "    elif sentiment['compound'] < 0:\n",
    "        print(\"The text has a negative sentiment.\")\n",
    "    else:\n",
    "        print(\"The text has a neutral sentiment.\")\n",
    "\n",
    "text = input(\"Enter some text to analyze: \")\n",
    "sentiment_analysis(text)\n",
    "\n"
   ]
  },
  {
   "cell_type": "code",
   "execution_count": 3,
   "id": "ed666ae1",
   "metadata": {},
   "outputs": [
    {
     "name": "stdout",
     "output_type": "stream",
     "text": [
      "Enter some text to analyze: i am a beautiful girl\n",
      "The text has a positive sentiment.\n"
     ]
    },
    {
     "name": "stderr",
     "output_type": "stream",
     "text": [
      "[nltk_data] Downloading package vader_lexicon to\n",
      "[nltk_data]     C:\\Users\\DEll\\AppData\\Roaming\\nltk_data...\n",
      "[nltk_data]   Package vader_lexicon is already up-to-date!\n"
     ]
    }
   ],
   "source": [
    "def sentiment_analysis(text):\n",
    "    nltk.download('vader_lexicon') # download the lexicon for SentimentIntensityAnalyzer\n",
    "    sia = SentimentIntensityAnalyzer()\n",
    "    sentiment = sia.polarity_scores(text)\n",
    "    if sentiment['compound'] > 0:\n",
    "        print(\"The text has a positive sentiment.\")\n",
    "    elif sentiment['compound'] < 0:\n",
    "        print(\"The text has a negative sentiment.\")\n",
    "    else:\n",
    "        print(\"The text has a neutral sentiment.\")\n",
    "\n",
    "text = input(\"Enter some text to analyze: \")\n",
    "sentiment_analysis(text)\n",
    "\n"
   ]
  },
  {
   "cell_type": "code",
   "execution_count": null,
   "id": "46890116",
   "metadata": {},
   "outputs": [],
   "source": []
  }
 ],
 "metadata": {
  "kernelspec": {
   "display_name": "Python 3 (ipykernel)",
   "language": "python",
   "name": "python3"
  },
  "language_info": {
   "codemirror_mode": {
    "name": "ipython",
    "version": 3
   },
   "file_extension": ".py",
   "mimetype": "text/x-python",
   "name": "python",
   "nbconvert_exporter": "python",
   "pygments_lexer": "ipython3",
   "version": "3.9.7"
  }
 },
 "nbformat": 4,
 "nbformat_minor": 5
}
